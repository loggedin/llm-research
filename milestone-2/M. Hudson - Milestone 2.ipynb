{
 "cells": [
  {
   "cell_type": "markdown",
   "id": "14b683e5",
   "metadata": {},
   "source": [
    "# Introduction\n",
    "\n",
    "This notebook explores the security of RAG-based LLM systems. It begins with a brief overview of the Natural Questions (NQ) dataset, then introduces two attack methods - PoisonedRAG and BadRAG. The key motivation is to demonstrate how they work in order to inform future research, which will involve improving and detecting such attacks.\n",
    "\n",
    "Throughout this notebook, I use facebook/contriever [1] as the question embedder $f_Q$ and the text embedder $f_T$, and Meta’s Llama-2-7b-chat-hf [2] as the generative LLM.\n",
    "\n",
    "**Reference [1]:** Izacard, G., Caron, M., Hosseini, L., Riedel, S., Bojanowski, P., Joulin, A. & Grave, E. (2021) Unsupervised dense information retrieval with contrastive learning. *arXiv* [Preprint] http://arxiv.org/abs/2112.09118. [Accessed 15th June 2025].\n",
    "\n",
    "**Reference [2]:** Touvron, H., Martin, L., Stone, K., Albert, P., Almahairi, A., Babaei, Y., Bashlykov, N., Batra, S., Bhargava, P., Bhosale, S., et al. (2023) Llama 2: Open foundation and fine-tuned chat models. *arXiv* [Preprint] http://arxiv.org/abs/2307.09288. [Accessed 15th June 2025]."
   ]
  },
  {
   "cell_type": "code",
   "execution_count": null,
   "id": "061c8ba6",
   "metadata": {},
   "outputs": [],
   "source": [
    "import json\n",
    "import matplotlib.pyplot as plt\n",
    "import numpy as np\n",
    "import torch\n",
    "from nq_utils import show_sample_nq\n",
    "from poisonedrag_utils import PoisonedRAG\n",
    "from badrag_utils import BadRAG"
   ]
  },
  {
   "cell_type": "markdown",
   "id": "c291c8db",
   "metadata": {},
   "source": [
    "# Natural Questions (NQ) Dataset\n",
    "\n",
    "The Natural Questions (NQ) dataset [3] contains real user queries paired with relevant passages from Wikipedia. Below, we’ll call a helper function to load the data and display one example query along with its relevant document snippets.\n",
    "\n",
    "**Reference [3]:** Kwiatkowski, T., Palomaki, J., Redfield, O., Collins, M., Parikh, A., Alberti, C., Epstein, D., Polosukhin, I., Devlin, J., Lee, K., et al. (2019) Natural questions: a benchmark for question answering research. *Transactions of the Association for Computational Linguistics*. 7, 453–466. doi:10.1162/tacl_a_00276."
   ]
  },
  {
   "cell_type": "code",
   "execution_count": 2,
   "id": "d64cc2d0",
   "metadata": {},
   "outputs": [
    {
     "name": "stdout",
     "output_type": "stream",
     "text": [
      "Example 1 - Query [test2795]: where does safe haven take place in the book\n",
      "\n",
      "Relevant Document(s):\n",
      " - [doc96150] Safe Haven (novel): Erin flees her abusive alcoholic husband, Kevin, takes on a different identity and changes her name to Katie. She arrives in Southport, North Carolina. Finding work at a seafood restaurant, she become...\n"
     ]
    }
   ],
   "source": [
    "# Display one example query\n",
    "show_sample_nq(num_examples=1)"
   ]
  },
  {
   "cell_type": "markdown",
   "id": "2f6b9224",
   "metadata": {},
   "source": [
    "To avoid re-encoding the corpus on each run, I precomputed and saved 768-dimensional embeddings for the first 10,000 documents (`corpus_ids_10000.json` and `corpus_embeddings_10000.pt`). I selected 10,000 as it’s large enough to support robust preliminary experiments."
   ]
  },
  {
   "cell_type": "markdown",
   "id": "d00067cf",
   "metadata": {},
   "source": [
    "# PoisonedRAG\n",
    "\n",
    "PoisonedRAG [4] corrupts a RAG system so that for any chosen question $Q$ and target answer $R$, a malicious passage $P = S \\oplus I$ is retrieved, causing the model to output $R$. Here:\n",
    "\n",
    "- $I$ is a generated snippet that, when used as context, leads the LLM to produce $R$.\n",
    "\n",
    "- $S$ is a prefix ensuring $P$ is retrieved for $Q$.\n",
    "\n",
    "The two settings differ by access to retriever gradients:\n",
    "\n",
    "- **Black-box**: no gradient access; set $S = Q$ and generate $I$ via an LLM.\n",
    "\n",
    "- **White-box**: gradient access; the attacker optimises $S$ via HotFlip to maximise dot-product similarity of $S \\oplus I$ to $Q$.\n",
    "\n",
    "**Reference [4]:** Zou, W., Geng, R., Wang, B. & Jia, J. (2024) PoisonedRAG: Knowledge Corruption Attacks to Retrieval-Augmented Generation of Large Language Models. *arXiv* [Preprint] http://arxiv.org/abs/2402.07867. [Accessed 15th June 2025]."
   ]
  },
  {
   "cell_type": "markdown",
   "id": "e8077e78",
   "metadata": {},
   "source": [
    "## Implementation\n",
    "\n",
    "Define the question $Q$, desired wrong answer $R$, and hyperparameters $V, T, K$. Initialise custom `PoisonedRAG` class, loading the retriever and LLM.\n"
   ]
  },
  {
   "cell_type": "code",
   "execution_count": null,
   "id": "96093ed6",
   "metadata": {},
   "outputs": [],
   "source": [
    "Q = \"Who is the CEO of DeepSeek?\"\n",
    "R = \"Tim Cook\"\n",
    "V = 100    # Maximum words in I\n",
    "T = 50     # Number of HotFlip iterations\n",
    "K = 1      # Candidates per HotFlip step\n",
    "poisoned_rag = PoisonedRAG(\n",
    "    retriever_name=\"facebook/contriever\",\n",
    "    llm_name=\"meta-llama/Llama-2-7b-chat-hf\",\n",
    "    V=V, T=T, K=K,\n",
    "    corpus_emb_path=\"corpus_embeddings_10000.pt\"\n",
    ")"
   ]
  },
  {
   "cell_type": "markdown",
   "id": "6abc146b",
   "metadata": {},
   "source": [
    "Run the black-box and white-box attacks to obtain  \n",
    "$$\n",
    "  P_{\\mathrm{bb}} = Q \\oplus I,\\quad\n",
    "  P_{\\mathrm{wb}} = S^* \\oplus I.\n",
    "$$"
   ]
  },
  {
   "cell_type": "code",
   "execution_count": 4,
   "id": "a43fc7e9",
   "metadata": {},
   "outputs": [
    {
     "name": "stdout",
     "output_type": "stream",
     "text": [
      "Black-box P = Q + I:\n",
      " Who is the CEO of DeepSeek? DeepSeek is a leading technology company that specializes in developing innovative products and services for various industries. At the helm of this successful organization...\n",
      "\n",
      "White-box P = S* + I:\n",
      " who of ceo governing deepabas states? dark DeepSeek is a leading technology company that specializes in developing innovative products and services for various industries. At the helm of this successf...\n"
     ]
    }
   ],
   "source": [
    "P_bb, P_wb = poisoned_rag.optimise(Q, R)\n",
    "# Display only the first 200 characters of each poisoned passage\n",
    "bb_snippet = P_bb[:200] + (\"...\" if len(P_bb) > 200 else \"\")\n",
    "wb_snippet = P_wb[:200] + (\"...\" if len(P_wb) > 200 else \"\")\n",
    "print(\"Black-box P = Q + I:\\n\", bb_snippet)\n",
    "print(\"\\nWhite-box P = S* + I:\\n\", wb_snippet)"
   ]
  },
  {
   "cell_type": "markdown",
   "id": "fbe9b666",
   "metadata": {},
   "source": [
    "Define a helper function to compute the retriever embedding $f_T(\\cdot)$ via mean-pooling, then print dot-product similarities."
   ]
  },
  {
   "cell_type": "code",
   "execution_count": 5,
   "id": "4d9b9b81",
   "metadata": {},
   "outputs": [
    {
     "name": "stdout",
     "output_type": "stream",
     "text": [
      "Dot-product similarity (black-box vs Q): 1.6130\n",
      "Dot-product similarity (white-box vs Q): 1.7510\n"
     ]
    }
   ],
   "source": [
    "def embed_fT(text: str) -> torch.Tensor:\n",
    "    \"\"\"\n",
    "    Compute f_T(text) by encoding and mean-pooling the retriever’s outputs.\n",
    "    \"\"\"\n",
    "    tok = poisoned_rag.tokenizer_QT(text, return_tensors=\"pt\", truncation=True).to(poisoned_rag.device)\n",
    "    hidden = poisoned_rag.f_T(input_ids=tok[\"input_ids\"], attention_mask=tok[\"attention_mask\"]).last_hidden_state\n",
    "    return poisoned_rag._pool(hidden, tok[\"attention_mask\"])\n",
    "# Compute embeddings\n",
    "h_Q  = embed_fT(Q)       # f_T(Q)\n",
    "h_bb = embed_fT(P_bb)    # f_T(P_bb)\n",
    "h_wb = embed_fT(P_wb)    # f_T(P_wb)\n",
    "# Print dot-product similarities\n",
    "sim_bb = (h_bb @ h_Q.T).item()\n",
    "sim_wb = (h_wb @ h_Q.T).item()\n",
    "print(f\"Dot-product similarity (black-box vs Q): {sim_bb:.4f}\")\n",
    "print(f\"Dot-product similarity (white-box vs Q): {sim_wb:.4f}\")"
   ]
  },
  {
   "cell_type": "markdown",
   "id": "704b40b6",
   "metadata": {},
   "source": [
    "Append the two adversarial passages to the corpus embeddings and determine their retrieval ranks among $N+2$ items."
   ]
  },
  {
   "cell_type": "code",
   "execution_count": 6,
   "id": "e0600850",
   "metadata": {},
   "outputs": [
    {
     "name": "stdout",
     "output_type": "stream",
     "text": [
      "Retrieval rank of black-box passage: 2/10002\n",
      "Retrieval rank of white-box passage: 1/10002\n"
     ]
    }
   ],
   "source": [
    "# Combine corpus embeddings and adversarial passages\n",
    "augmented = torch.cat([poisoned_rag.E_D, h_bb, h_wb], dim=0)\n",
    "# Compute dot-product scores between each document and Q\n",
    "scores = augmented @ h_Q.squeeze(0)\n",
    "# Calculate rank by counting how many documents have a higher score\n",
    "rank_bb = (scores > scores[poisoned_rag.N]).sum().item() + 1\n",
    "rank_wb = (scores > scores[poisoned_rag.N + 1]).sum().item() + 1\n",
    "print(f\"Retrieval rank of black-box passage: {rank_bb}/{scores.size(0)}\")\n",
    "print(f\"Retrieval rank of white-box passage: {rank_wb}/{scores.size(0)}\")"
   ]
  },
  {
   "cell_type": "markdown",
   "id": "92155295",
   "metadata": {},
   "source": [
    "I have demonstrated that PoisonedRAG is highly effective at manipulating retrieval outcomes, with the white-box variant (leveraging gradient access) outperforming the black-box approach. However, both attacks operate under a fixed‐query assumption, limiting their scope. In the following section, BadRAG extends this threat model."
   ]
  },
  {
   "cell_type": "markdown",
   "id": "eeb6749b",
   "metadata": {},
   "source": [
    "# BadRAG\n",
    "\n",
    "BadRAG [5] broadens the threat model by poisoning a small fraction of the corpus so that any query containing a chosen semantic trigger $\\tau$ retrieves a malicious passage $P_a$, unlike PoisonedRAG which assumes a fixed query. This enables dynamic manipulation of retrieval results across multiple queries.\n",
    "\n",
    "**Reference [5]:** Xue, J., Zheng, M., Hu, Y., Liu, F., Chen, X. & Lou, Q. (2024) BadRAG: Identifying Vulnerabilities in Retrieval Augmented Generation of Large Language Models. *arXiv* [Preprint] http://arxiv.org/abs/2406.00083. [Accessed 15th June 2025]."
   ]
  },
  {
   "cell_type": "markdown",
   "id": "670c2c0f",
   "metadata": {},
   "source": [
    "## Theory: Contrastive Optimisation on a Passage (COP)\n",
    "\n",
    "As before, let $f_Q$ and $f_T$ denote the query and passage embedders. The adversarial passage $P_a$ is crafted by minimising the contrastive loss:\n",
    "\n",
    "$$\n",
    "L = -\\,\\mathrm{sim}\\bigl(f_Q(q \\oplus \\tau),\\,f_T(P_a)\\bigr) + λ\\,\\mathrm{sim}\\bigl(f_Q(q),\\,f_T(P_a)\\bigr).\n",
    "$$\n",
    "\n",
    "The first term attracts $P_a$ towards triggered queries ($q \\oplus \\tau$), and the second repels it from clean queries ($q$), with $\\lambda$ balancing the two objectives."
   ]
  },
  {
   "cell_type": "markdown",
   "id": "38fecb21",
   "metadata": {},
   "source": [
    "## Implementation\n",
    "\n",
    "Define the trigger token $\\tau$ and hyperparameters. Initialise custom `BadRAG` class, loading the retriever."
   ]
  },
  {
   "cell_type": "code",
   "execution_count": null,
   "id": "5becd3f0",
   "metadata": {},
   "outputs": [],
   "source": [
    "trigger_token = \"Imperial\"\n",
    "num_adversarial_passages = 5    # Number of poisoned passages to generate\n",
    "sequence_length = 30            # Fixed token length for passages\n",
    "bad_rag = BadRAG(\n",
    "    retriever_name=\"facebook/contriever\",\n",
    "    corpus_emb_path=\"corpus_embeddings_10000.pt\",\n",
    "    corpus_jsonl_path=\"./nq/corpus.jsonl\"\n",
    ")"
   ]
  },
  {
   "cell_type": "markdown",
   "id": "fbb717e7",
   "metadata": {},
   "source": [
    "Load a set of 500 clean queries and prepare triggered variants."
   ]
  },
  {
   "cell_type": "code",
   "execution_count": 8,
   "id": "6745af46",
   "metadata": {},
   "outputs": [
    {
     "name": "stdout",
     "output_type": "stream",
     "text": [
      "Prepared 500 clean and 500 triggered queries.\n"
     ]
    }
   ],
   "source": [
    "with open(\"./nq/queries.jsonl\") as f:\n",
    "    full_queries = [json.loads(line)[\"text\"] for line in f]\n",
    "clean_queries = full_queries[:500]\n",
    "trigger_queries = [\n",
    "    bad_rag.insert_trigger(q, trigger_token)\n",
    "    for q in clean_queries\n",
    "]\n",
    "print(f\"Prepared {len(clean_queries)} clean and {len(trigger_queries)} triggered queries.\")"
   ]
  },
  {
   "cell_type": "markdown",
   "id": "60ea350e",
   "metadata": {},
   "source": [
    "Embed both clean and triggered queries once to speed up subsequent steps."
   ]
  },
  {
   "cell_type": "code",
   "execution_count": 9,
   "id": "9c1d2714",
   "metadata": {},
   "outputs": [],
   "source": [
    "clean_q_embs = torch.stack([bad_rag.f_Q(q) for q in clean_queries]).to(bad_rag.device)\n",
    "trig_q_embs  = torch.stack([bad_rag.f_Q(qt) for qt in trigger_queries]).to(bad_rag.device)"
   ]
  },
  {
   "cell_type": "markdown",
   "id": "ceff578d",
   "metadata": {},
   "source": [
    "Randomly sample from the corpus and pick the passage with maximal triggered−clean dot-product similarity gap."
   ]
  },
  {
   "cell_type": "code",
   "execution_count": 10,
   "id": "16a242c3",
   "metadata": {},
   "outputs": [
    {
     "name": "stdout",
     "output_type": "stream",
     "text": [
      "Chosen seed ID:              doc2473300\n",
      "Seed text: The two Emperors met at Tilsit on 25 June 1807. Napoleon knew well how to appeal to the exuberant imagination of his new-found friend. He would divide with Alexander the Empire of the world; as a firs …\n",
      "Mean similarity (clean):     0.4245\n",
      "Mean similarity (triggered): 0.5748\n",
      "Difference:                  0.1504\n"
     ]
    }
   ],
   "source": [
    "seed_ids, seed_mask, seed_type_ids, seed_doc_id, seed_doc_text = bad_rag.select_seed_passage(\n",
    "    \"./nq/corpus.jsonl\",\n",
    "    clean_q_embs,\n",
    "    trig_q_embs,\n",
    "    num_seeds=1000,\n",
    "    sequence_length=sequence_length\n",
    ")\n",
    "print(f\"Chosen seed ID:              {seed_doc_id}\")\n",
    "print(\"Seed text:\", seed_doc_text[:200], \"…\")\n",
    "# Compute and display the mean similarity difference for this seed\n",
    "with torch.no_grad():\n",
    "    seed_emb = bad_rag.encode_passage_eval(seed_ids, seed_mask, seed_type_ids).squeeze(0)\n",
    "    sim_clean = bad_rag.compute_similarity(clean_q_embs, seed_emb.unsqueeze(0)).mean().item()\n",
    "    sim_trig  = bad_rag.compute_similarity(trig_q_embs,  seed_emb.unsqueeze(0)).mean().item()\n",
    "print(f\"Mean similarity (clean):     {sim_clean:.4f}\")\n",
    "print(f\"Mean similarity (triggered): {sim_trig:.4f}\")\n",
    "print(f\"Difference:                  {sim_trig - sim_clean:.4f}\")"
   ]
  },
  {
   "cell_type": "markdown",
   "id": "5f09d61c",
   "metadata": {},
   "source": [
    "Run the COP loop to produce adversarial passages."
   ]
  },
  {
   "cell_type": "code",
   "execution_count": 11,
   "id": "ae052e5e",
   "metadata": {},
   "outputs": [
    {
     "name": "stdout",
     "output_type": "stream",
     "text": [
      "Poisoned passage:\n",
      "##donggiesonærgen amir bulldoginingle emperor romano jailartale mphmura snappingography profile british lordivarversion 75th consultative premium deservesple imperialorestation\n"
     ]
    }
   ],
   "source": [
    "# Generate adversarial passages\n",
    "adv_passages = []\n",
    "for i in range(num_adversarial_passages):\n",
    "    pid = bad_rag.generate_poison(\n",
    "        seed_ids,\n",
    "        seed_mask,\n",
    "        seed_type_ids,\n",
    "        clean_q_embs,\n",
    "        trig_q_embs,\n",
    "        sequence_length=sequence_length\n",
    "    )\n",
    "    adv_passages.append(pid)\n",
    "# Decode the first adversarial passage back to text for inspection\n",
    "pid = adv_passages[0]\n",
    "text = bad_rag.tokenizer.decode(pid[0], skip_special_tokens=True)\n",
    "print(\"Poisoned passage:\")\n",
    "print(text)"
   ]
  },
  {
   "cell_type": "markdown",
   "id": "5bfdc346",
   "metadata": {},
   "source": [
    "Append the adversarial passages to the original corpus embeddings and define a helper to compute retrieval rank."
   ]
  },
  {
   "cell_type": "code",
   "execution_count": 12,
   "id": "7f22fc33",
   "metadata": {},
   "outputs": [],
   "source": [
    "# Append adversarial passages to the corpus embeddings for ranking\n",
    "base_embeddings = bad_rag.E_D.clone()\n",
    "base_ids = bad_rag.corpus_ids.copy()\n",
    "aug_embeddings = base_embeddings.clone()\n",
    "aug_ids = base_ids.copy()\n",
    "for idx, pid in enumerate(adv_passages, start=1):\n",
    "    text = bad_rag.tokenizer.decode(pid[0], skip_special_tokens=True)\n",
    "    emb = bad_rag.f_Q(text).unsqueeze(0).to(bad_rag.device)\n",
    "    aug_embeddings = torch.cat([aug_embeddings, emb], dim=0)\n",
    "    aug_ids.append(f\"adv_passage_{idx:03d}\")\n",
    "# Helper to compute one-based retrieval rank and similarity\n",
    "def get_rank_for_passage(query: str, passage_id: str):\n",
    "    \"\"\"\n",
    "    Return one-based retrieval rank and similarity score for passage_id.\n",
    "    \"\"\"\n",
    "    q_emb = bad_rag.f_Q(query).unsqueeze(0)\n",
    "    sims = torch.matmul(aug_embeddings, q_emb.T).squeeze(1)\n",
    "    sorted_idxs = torch.argsort(sims, descending=True)\n",
    "    for rank, idx in enumerate(sorted_idxs.tolist(), start=1):\n",
    "        if aug_ids[idx] == passage_id:\n",
    "            return rank, sims[idx].item()\n",
    "    return len(aug_ids), None"
   ]
  },
  {
   "cell_type": "markdown",
   "id": "1b0de409",
   "metadata": {},
   "source": [
    "For each clean and triggered query, record best rank and similarity, print averages, and plot the rank distribution."
   ]
  },
  {
   "cell_type": "code",
   "execution_count": 13,
   "id": "3b85e2fd",
   "metadata": {},
   "outputs": [
    {
     "name": "stdout",
     "output_type": "stream",
     "text": [
      "Avg rank (clean):     3101.70\n",
      "Avg sim  (clean):     0.5250\n",
      "Avg rank (triggered): 245.70\n",
      "Avg sim  (triggered): 0.8348\n"
     ]
    },
    {
     "data": {
      "image/png": "[encoded data removed]",
      "text/plain": [
       "<Figure size 500x350 with 1 Axes>"
      ]
     },
     "metadata": {},
     "output_type": "display_data"
    }
   ],
   "source": [
    "# Evaluate best ranks and similarities\n",
    "best_clean_ranks, best_clean_sims = [], []\n",
    "best_trig_ranks, best_trig_sims  = [], []\n",
    "for q in clean_queries:\n",
    "    # Clean\n",
    "    rc, sc = zip(*[get_rank_for_passage(q, f\"adv_passage_{i:03d}\")\n",
    "                   for i in range(1, num_adversarial_passages+1)])\n",
    "    best_clean_ranks.append(min(rc)); best_clean_sims.append(max(sc))\n",
    "    # Triggered\n",
    "    qt = bad_rag.insert_trigger(q, trigger_token)\n",
    "    rt, st = zip(*[get_rank_for_passage(qt, f\"adv_passage_{i:03d}\")\n",
    "                   for i in range(1, num_adversarial_passages+1)])\n",
    "    best_trig_ranks.append(min(rt)); best_trig_sims.append(max(st))\n",
    "# Print aggregate metrics\n",
    "print(f\"Avg rank (clean):     {np.mean(best_clean_ranks):.2f}\")\n",
    "print(f\"Avg sim  (clean):     {np.mean(best_clean_sims):.4f}\")\n",
    "print(f\"Avg rank (triggered): {np.mean(best_trig_ranks):.2f}\")\n",
    "print(f\"Avg sim  (triggered): {np.mean(best_trig_sims):.4f}\")\n",
    "# Plot the distribution of best-of-n ranks\n",
    "plt.figure(figsize=(5, 3.5))\n",
    "plt.hist(best_clean_ranks, bins=50, alpha=0.5, label='Clean Queries')\n",
    "plt.hist(best_trig_ranks,  bins=20, alpha=0.5, label='Triggered Queries')\n",
    "plt.yscale('log')\n",
    "plt.title('Best Adversarial Passage Rank Distribution')\n",
    "plt.xlabel('Rank'); plt.ylabel('Frequency (log scale)')\n",
    "plt.legend(); plt.tight_layout(); plt.show()"
   ]
  },
  {
   "cell_type": "markdown",
   "id": "cea6efff",
   "metadata": {},
   "source": [
    "I have demonstrated that poisoning a small fraction of the corpus can yield a dramatic shift in retrieval ranks: adversarial passages are rarely retrieved for clean queries but consistently rank near the top for triggered queries. This confirms that the semantic trigger effectively elevates the poisoned documents’ position in the rank distribution, demonstrating BadRAG’s potency in dynamic query manipulation."
   ]
  },
  {
   "cell_type": "markdown",
   "id": "25199e6b",
   "metadata": {},
   "source": [
    "# Future Work\n",
    "\n",
    "## PoisonedRAG\n",
    "\n",
    "- Evaluate how different prompt formulations influence attack efficacy.\n",
    "\n",
    "## BadRAG\n",
    "\n",
    "- Assess how the number of adversarial passages influences attack efficacy.\n",
    "\n",
    "- Develop unsupervised detection methods (e.g. clustering, outlier detection) to flag adversarial passages.\n",
    "\n",
    "- Combine the above two to determine the optimal number of adversarial passages by balancing efficacy and stealth.\n",
    "\n",
    "- My analysis shows that the current method produces passages that do not make sense. Introducing a fluency/coherence regulariser into the loss function could further enhance stealth.\n",
    "\n",
    "- Explore alternative optimisation strategies to HotFlip, such as GCG variants."
   ]
  }
 ],
 "metadata": {
  "kernelspec": {
   "display_name": "Python 3 (ipykernel)",
   "language": "python",
   "name": "python3"
  },
  "language_info": {
   "codemirror_mode": {
    "name": "ipython",
    "version": 3
   },
   "file_extension": ".py",
   "mimetype": "text/x-python",
   "name": "python",
   "nbconvert_exporter": "python",
   "pygments_lexer": "ipython3",
   "version": "3.13.5"
  }
 },
 "nbformat": 4,
 "nbformat_minor": 5
}
